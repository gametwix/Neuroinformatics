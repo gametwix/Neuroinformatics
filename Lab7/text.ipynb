{
 "cells": [
  {
   "cell_type": "code",
   "execution_count": null,
   "metadata": {},
   "outputs": [],
   "source": [
    "# optimizer_encoder_conv = torch.optim.Adam(encoder_conv.parameters(), lr=1e-3)\n",
    "# optimizer_decoder_conv = torch.optim.Adam(decoder_conv.parameters(), lr=1e-3)\n",
    "optimizer_encdecoder_conv = torch.optim.Adam(encdecoder_conv.parameters(), lr=1e-3)\n",
    "loss_fn = nn.L1Loss()\n",
    "\n",
    "epoch = 100\n",
    "# encoder_conv.train()\n",
    "# decoder_conv.train()\n",
    "encdecoder_conv.train()\n",
    "\n",
    "loses = []\n",
    "for ep in tqdm.tqdm(range(epoch)):\n",
    "    epoch_loss = []\n",
    "    for (inp, out) in train_dataloader:\n",
    "        \n",
    "        inp = inp.numpy().transpose([0,3,1,2])\n",
    "        inp = torch.Tensor(inp).to(torch.float32)\n",
    "        out = torch.flatten(out.to(torch.float32), start_dim=1)\n",
    "        # pred_encoder_conv = encoder_conv(inp)\n",
    "        # print(pred_encoder_conv)\n",
    "        # pred_decoder_conv = decoder_conv(pred_encoder_conv)\n",
    "        pred_encdecoder_conv = encdecoder_conv(inp)\n",
    "        # print(pred_encdecoder_conv.size())\n",
    "        # loss = loss_fn(pred_decoder_conv, out)\n",
    "        loss = loss_fn(pred_encdecoder_conv, out)\n",
    "        epoch_loss.append(loss.item())\n",
    "        # optimizer_encoder_conv.zero_grad()\n",
    "        # optimizer_decoder_conv.zero_grad()\n",
    "        optimizer_encdecoder_conv.zero_grad()\n",
    "        loss.backward()\n",
    "        # optimizer_encoder_conv.step()\n",
    "        # optimizer_decoder_conv.step()\n",
    "        optimizer_encdecoder_conv.step()\n",
    "    loses.append(np.mean(epoch_loss))"
   ]
  },
  {
   "cell_type": "code",
   "execution_count": null,
   "metadata": {},
   "outputs": [],
   "source": [
    "image_size = 32*32*3\n",
    "encoder_conv = nn.Sequential(\n",
    "    # nn.Linear(image_size, image_size*2),\n",
    "    # nn.ReLU(),\n",
    "    # nn.Linear(image_size*2, image_size//8),\n",
    "    nn.Conv2d(3, 8, 3),\n",
    "    nn.MaxPool2d(2),\n",
    "    nn.Conv2d(8, 16, 3),\n",
    "    nn.MaxPool2d(2),\n",
    "    nn.Conv2d(16, 32, 3),\n",
    "    nn.Flatten()\n",
    ")\n",
    "decoder_conv = nn.Sequential(\n",
    "    nn.Linear(512, image_size//3),\n",
    "    nn.ReLU(),\n",
    "    nn.Linear(image_size//3, image_size*4),\n",
    "    nn.ReLU(),\n",
    "    nn.Linear(image_size*4, image_size),\n",
    "    nn.Tanh()\n",
    ")\n",
    "\n",
    "encdecoder_conv = nn.Sequential(\n",
    "    encoder_conv,\n",
    "    decoder_conv\n",
    ")"
   ]
  }
 ],
 "metadata": {
  "kernelspec": {
   "display_name": "Python 3.9.5 ('ENV': venv)",
   "language": "python",
   "name": "python3"
  },
  "language_info": {
   "name": "python",
   "version": "3.9.5"
  },
  "orig_nbformat": 4,
  "vscode": {
   "interpreter": {
    "hash": "35bc7da2885cd6966f22e9b33472bbe8600280cb373b4b038157a011d99f2e93"
   }
  }
 },
 "nbformat": 4,
 "nbformat_minor": 2
}

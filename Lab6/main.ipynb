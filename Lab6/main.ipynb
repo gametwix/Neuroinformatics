{
 "cells": [
  {
   "cell_type": "markdown",
   "metadata": {},
   "source": [
    "Мохляков П.А. \\\n",
    "М8О-408Б-19 \\\n",
    "Вариант 3\n",
    "\n",
    "## Лабораторная работа 6"
   ]
  },
  {
   "cell_type": "code",
   "execution_count": 1,
   "metadata": {},
   "outputs": [],
   "source": [
    "import matplotlib.pyplot as plt\n",
    "import numpy as np\n",
    "import copy\n",
    "import tqdm"
   ]
  },
  {
   "cell_type": "markdown",
   "metadata": {},
   "source": [
    "Класс сети Кохонена"
   ]
  },
  {
   "cell_type": "code",
   "execution_count": 2,
   "metadata": {},
   "outputs": [],
   "source": [
    "class SOM:\n",
    "    def __init__(self, features:int, width:int, height:int):\n",
    "        self._features = features\n",
    "        self._width = width\n",
    "        self._height = height\n",
    "        self._weights = np.random.randn(width*height,features)\n",
    "        cords = np.array([[x, y] for y in range(height) for x in range(width)])\n",
    "        self._distanses = np.zeros((width*height, width*height))\n",
    "        for i, point in enumerate(cords):\n",
    "            self._distanses[i] = np.linalg.norm(cords - point, axis=1)\n",
    "    \n",
    "    def update(self, x, ef_width, lr):\n",
    "        x_distanses = np.linalg.norm(self._weights - x, axis=1)\n",
    "        win_point = np.argmin(x_distanses)\n",
    "        for i, d in enumerate(self._distanses[win_point]):\n",
    "            tn = np.exp(-d**2 / (2*ef_width**2))\n",
    "            self._weights[i] += (x - self._weights[i])*lr*tn\n",
    "            \n",
    "    def train(self, train_data, epoch, start_lr):\n",
    "        start_ef_width = max(self._width, self._height) / 2\n",
    "        ef_width_rate = epoch / np.log(start_ef_width)\n",
    "        shuffle_data = copy.copy(train_data)\n",
    "        for i in tqdm.tqdm(range(epoch)):\n",
    "            np.random.shuffle(shuffle_data)\n",
    "            ef_width = start_ef_width*np.exp(-i / ef_width_rate)\n",
    "            lr = start_lr*np.exp(-i / epoch)\n",
    "            for x in shuffle_data:\n",
    "                self.update(x, ef_width, lr)\n",
    "                \n",
    "    @property\n",
    "    def weights(self):\n",
    "        return np.array(self._weights.reshape((self._height,self._width, self._features)))\n",
    "    \n",
    "    @property\n",
    "    def weights_scaled(self):\n",
    "        return ((self._weights - np.min(self._weights, axis=0)) / (np.max(self._weights, axis=0) - np.min(self._weights, axis=0))).reshape((self._height,self._width, self._features))\n",
    "        \n",
    "            "
   ]
  },
  {
   "cell_type": "markdown",
   "metadata": {},
   "source": [
    "Входные данные"
   ]
  },
  {
   "cell_type": "code",
   "execution_count": 3,
   "metadata": {},
   "outputs": [],
   "source": [
    "data = [[0, 0.7], \n",
    "        [0.3, -1.3], \n",
    "        [-1.3, 0.8], \n",
    "        [1.2, 0.1], \n",
    "        [-1.2, 0.9],\n",
    "        [-0.5, -0.7],\n",
    "        [0.7, -1.5],\n",
    "        [-1.4, 0.5],\n",
    "        [0.3, 0],\n",
    "        [0.6, 0.6],\n",
    "        [0.8, -0.7],\n",
    "        [0.5, 0.1]\n",
    "        ]\n"
   ]
  },
  {
   "cell_type": "markdown",
   "metadata": {},
   "source": [
    "Содаем объект модели"
   ]
  },
  {
   "cell_type": "code",
   "execution_count": 4,
   "metadata": {},
   "outputs": [],
   "source": [
    "model = SOM(2,50,50)"
   ]
  },
  {
   "cell_type": "markdown",
   "metadata": {},
   "source": [
    "Тренеруем модель"
   ]
  },
  {
   "cell_type": "code",
   "execution_count": 5,
   "metadata": {},
   "outputs": [
    {
     "name": "stderr",
     "output_type": "stream",
     "text": [
      "100%|█████████████████████████████████████████████████████████████████████████████████| 150/150 [00:24<00:00,  6.21it/s]\n"
     ]
    }
   ],
   "source": [
    "model.train(data, 150, 1)"
   ]
  },
  {
   "cell_type": "markdown",
   "metadata": {},
   "source": [
    "Результат"
   ]
  },
  {
   "cell_type": "code",
   "execution_count": 6,
   "metadata": {},
   "outputs": [
    {
     "data": {
      "text/plain": [
       "<matplotlib.image.AxesImage at 0x7f81291eda00>"
      ]
     },
     "execution_count": 6,
     "metadata": {},
     "output_type": "execute_result"
    },
    {
     "data": {
      "image/png": "[encoded data removed]",
      "text/plain": [
       "<Figure size 640x480 with 1 Axes>"
      ]
     },
     "metadata": {},
     "output_type": "display_data"
    }
   ],
   "source": [
    "plt.imshow(np.insert(model.weights_scaled, 2, 0.5, axis = 2))"
   ]
  }
 ],
 "metadata": {
  "kernelspec": {
   "display_name": "Python 3 (ipykernel)",
   "language": "python",
   "name": "python3"
  },
  "language_info": {
   "codemirror_mode": {
    "name": "ipython",
    "version": 3
   },
   "file_extension": ".py",
   "mimetype": "text/x-python",
   "name": "python",
   "nbconvert_exporter": "python",
   "pygments_lexer": "ipython3",
   "version": "3.8.10"
  },
  "vscode": {
   "interpreter": {
    "hash": "35bc7da2885cd6966f22e9b33472bbe8600280cb373b4b038157a011d99f2e93"
   }
  }
 },
 "nbformat": 4,
 "nbformat_minor": 2
}
